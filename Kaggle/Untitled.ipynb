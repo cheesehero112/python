{
 "cells": [
  {
   "cell_type": "code",
   "execution_count": 1,
   "id": "91b8dbd0-a6d6-4c05-85c8-0c7b78bbe62b",
   "metadata": {},
   "outputs": [],
   "source": [
    "hello = 'world'"
   ]
  },
  {
   "cell_type": "code",
   "execution_count": 2,
   "id": "581a8d0d-41e1-4aec-a62b-0dcfec070db6",
   "metadata": {},
   "outputs": [
    {
     "data": {
      "text/plain": [
       "'world'"
      ]
     },
     "execution_count": 2,
     "metadata": {},
     "output_type": "execute_result"
    }
   ],
   "source": [
    "hello"
   ]
  },
  {
   "cell_type": "code",
   "execution_count": null,
   "id": "b17b51e2-b93a-4711-a823-66cd8e03404d",
   "metadata": {},
   "outputs": [],
   "source": []
  }
 ],
 "metadata": {
  "kernelspec": {
   "display_name": "Python 3 (ipykernel)",
   "language": "python",
   "name": "python3"
  },
  "language_info": {
   "codemirror_mode": {
    "name": "ipython",
    "version": 3
   },
   "file_extension": ".py",
   "mimetype": "text/x-python",
   "name": "python",
   "nbconvert_exporter": "python",
   "pygments_lexer": "ipython3",
   "version": "3.11.2"
  }
 },
 "nbformat": 4,
 "nbformat_minor": 5
}
